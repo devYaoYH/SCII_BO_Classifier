{
 "cells": [
  {
   "cell_type": "markdown",
   "metadata": {},
   "source": [
    "# Outline of Approach\n",
    "\n",
    "We treat each action as a multivariate vector of as many variables as there are unique structures, buildings and upgrades available for each race. Thereafter, we will have a multivariate timeseries matrix for each player in a game. This is where we should end up and the starting point for our subsequent classification.\n",
    "\n",
    "Thus, the problem is formalized as an instance of **Unsurpervised Multivariate Timeseries Classification**. We discretize our timeseries into 1-second steps (for a reasonable vector length at 600 per 10 minutes)."
   ]
  },
  {
   "cell_type": "code",
   "execution_count": null,
   "metadata": {},
   "outputs": [],
   "source": []
  },
  {
   "cell_type": "markdown",
   "metadata": {},
   "source": [
    "## One-hot encoding\n",
    "\n",
    "Since the game progresses in discrete frames, we can use one-hot encoding for the sequence of actions taken. However, this greatly increases the length of the timeseries we consider a 10min game has roughtly 13,600 frames in the above example. Most of these frames however have empty action sequences. **To deal with this extremely sparse data, we collapse all gaps between actions and discard those frames.** Although this will affect our accuracy in small (but potentially important) variations to build order, as the name suggests, it is the *order* of actions taken that is of paramount importance. Furthermore, we can append and consider the timeseries of resources as a continuous measure over the duration of the game for improved metrics of how the game is progressing (e.g. dips in minerals and gas will occur when actions are taken)."
   ]
  },
  {
   "cell_type": "code",
   "execution_count": null,
   "metadata": {},
   "outputs": [],
   "source": []
  },
  {
   "cell_type": "markdown",
   "metadata": {},
   "source": [
    "## Automatic Feature Extraction\n",
    "\n",
    "We also have packages for automated feature extraction for a time series, e.g. [tsfresh](https://github.com/blue-yonder/tsfresh) is a candidate. To reduce the multivariate nature of the timeseries matrix we ended up with, we can run this feature extraction on each row of our matrix (timeseries for a single variable) then flatten the results into a single vector for further classification."
   ]
  },
  {
   "cell_type": "code",
   "execution_count": null,
   "metadata": {},
   "outputs": [],
   "source": []
  }
 ],
 "metadata": {
  "kernelspec": {
   "display_name": "Python 3",
   "language": "python",
   "name": "python3"
  },
  "language_info": {
   "codemirror_mode": {
    "name": "ipython",
    "version": 3
   },
   "file_extension": ".py",
   "mimetype": "text/x-python",
   "name": "python",
   "nbconvert_exporter": "python",
   "pygments_lexer": "ipython3",
   "version": "3.8.3"
  }
 },
 "nbformat": 4,
 "nbformat_minor": 4
}
