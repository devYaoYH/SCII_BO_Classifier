{
 "cells": [
  {
   "cell_type": "markdown",
   "metadata": {},
   "source": [
    "# Dataset Visualization & Feature Extraction\n",
    "\n",
    "After some sanitization of inputs (discarding ineligible replays) and standardizing the formatting of replay filenames, we have a shortlist of **1979** unique games to explore with. Based on initial results, the same procedure can be run on a larger set of non-pro player replays in a wider range of ranked leagues."
   ]
  },
  {
   "cell_type": "code",
   "execution_count": 1,
   "metadata": {
    "scrolled": false
   },
   "outputs": [],
   "source": [
    "import os\n",
    "import sys\n",
    "import spawningtool.parser\n",
    "from collections import defaultdict"
   ]
  },
  {
   "cell_type": "code",
   "execution_count": 2,
   "metadata": {
    "scrolled": false
   },
   "outputs": [],
   "source": [
    "# Where replays are located\n",
    "replay_dir = \"replays\"\n",
    "# Where we should copy over the sanitized replays\n",
    "output_dir = \"sanitized_replays\""
   ]
  },
  {
   "cell_type": "code",
   "execution_count": 3,
   "metadata": {
    "scrolled": false
   },
   "outputs": [],
   "source": [
    "matchup_dict = defaultdict(list)\n",
    "race_dict = defaultdict(list)\n",
    "\n",
    "for (dirpath, dirnames, filenames) in os.walk(replay_dir):\n",
    "    for filename in filenames:\n",
    "        try:\n",
    "            matchup, _, _ = filename.split('_')\n",
    "            # Build up classification by matchup\n",
    "            matchup_dict[''.join(sorted(matchup))].append(filename)\n",
    "            # Build up classification by race\n",
    "            one, two = matchup.split('v')\n",
    "            race_dict[one].append((filename, 1))\n",
    "            race_dict[two].append((filename, 2))\n",
    "        except Exception as e:\n",
    "            print(e)\n",
    "            print(filename)\n",
    "    break"
   ]
  },
  {
   "cell_type": "markdown",
   "metadata": {},
   "source": [
    "## Dataset-level population metrics\n",
    "\n",
    "Below are some metrics on the population of replays we are classifying on. There is a bias towards the Protoss race, likely due to the relative proportion of active professional players utilizing this race in the recent time period. As seen below, games that involve Protoss players occupy roughly 75% of this dataset while games involving the other two races are around 60%. This should not affect our classification results since we will be classifying within each race, we may simply have less confidence on the non-Protoss results."
   ]
  },
  {
   "cell_type": "code",
   "execution_count": 4,
   "metadata": {
    "scrolled": false
   },
   "outputs": [
    {
     "name": "stdout",
     "output_type": "stream",
     "text": [
      "Matchup PPv: 303\n",
      "Matchup PTv: 459\n",
      "Matchup PZv: 484\n",
      "Matchup TTv: 144\n",
      "Matchup TZv: 388\n",
      "Matchup ZZv: 201\n",
      "Race P: 1549\n",
      "Race T: 1135\n",
      "Race Z: 1274\n"
     ]
    }
   ],
   "source": [
    "for key in matchup_dict.keys():\n",
    "    print(f\"Matchup {key}: {len(matchup_dict[key])}\")\n",
    "\n",
    "for key in race_dict.keys():\n",
    "    print(f\"Race {key}: {len(race_dict[key])}\")"
   ]
  },
  {
   "cell_type": "markdown",
   "metadata": {},
   "source": [
    "## Dissecting a game\n",
    "\n",
    "Many things are happening simultaneously in a game of Starcraft. Broadly speaking, players balance between 3 goals: Economy, Offense, and Defence. More specifically, there are 3 resources in the game players need to balance, Minerals, Vespene Gas, and Supply. Minerals and Gas are used to produce both Buildings, Upgrades, and Units. A set amount of Supply is consumed by each unit on the playing field currently.\n",
    "\n",
    "There are a few classes of buildings and units which we will breakdown as follows (P/T/Z):\n",
    "- Economy\n",
    "    - Nexus/Command Center/Hatchery: Main collection point for resources and (only) initial building given to players\n",
    "- Supply\n",
    "    - Pylon/Supply Depot/\\[Overlord\\]: Structures which increase available Supply (capped at 200). Note that for Zerg, this is a unit instead.\n",
    "- Production (basic)\n",
    "    - Gateway,Stargate,Robotics Facility/Barracks,Factory,Starport/\\[Larvae\\]: Basic offensive unit production building. Note that for Zerg, ALL other units are produced from the basic *Larvae* unit which is spawned at a constant rate from Hatcheries.\n",
    "- Tech (basic)\n",
    "    - Cybernetics Core,Twilight Council/Ghost Academy,Techlab add-on/Spawning Pool,Baneling Nest,Roach Warren,Lair\n",
    "- Tech (advanced)\n",
    "    - Templar Archives,Dark Shrine,Fleet Beacon,Robotics Bay/Fusion Core/Hydralist Den,Lurker Den,Spire,Hive,Ultralisk Cavern,Greater Spire\n",
    "- Upgrades\n",
    "    - Forge/Armory,Engineering Bay/Evolution Chamber\n",
    "    \n",
    "This is just a personal categorical breakdown of the classes of structures and their roles in the game. Each building also has dependencies to be fulfilled before they can be built. Furthermore, for some cases, structures fulfils both a Tech role as well as an Upgrade role (one unlocks both new units to create as well as new upgrades to research). One can access the full structure tree for each race at:\n",
    "- [Protoss](https://liquipedia.net/starcraft2/Protoss_Tech_Tree_(Legacy_of_the_Void))\n",
    "- [Terran](https://liquipedia.net/starcraft2/Terran_Tech_Tree_(Legacy_of_the_Void))\n",
    "- [Zerg](https://liquipedia.net/starcraft2/Zerg_Tech_Tree_(Legacy_of_the_Void))\n",
    "\n",
    "The purpose of creating buildings outside the Production class is to unlock a greater variety of units that one can create. With units that require more investment supposedly generating more efficiency (in terms of resources utilized against potential damage caused to the opponent).\n",
    "\n",
    "## Visualizing a game\n",
    "\n",
    "For this exercise, we will dig into a particular replay (`PvT_1614448222_7313968-7314011.SC2Replay`) to visualize the features we will be extracting for classification.\n",
    "\n",
    "We will attempt to visualize a recent game in the 2020 world championships between two pro players PartinG (P) and TY (T)."
   ]
  },
  {
   "cell_type": "code",
   "execution_count": 5,
   "metadata": {
    "scrolled": true
   },
   "outputs": [
    {
     "name": "stdout",
     "output_type": "stream",
     "text": [
      "PlayerOne: PartinG\n",
      "PlayerTwo: TYTY\n",
      "Game unique fingerprint: PvT_1614448222_7313968-7314011\n"
     ]
    }
   ],
   "source": [
    "def fingerprint(game):\n",
    "    players = game['players']\n",
    "    matchup = f\"{players[1]['race'][0]}v{players[2]['race'][0]}\"\n",
    "    timestamp = game['unix_timestamp']\n",
    "    uidPair = f\"{players[1]['uid']}-{players[2]['uid']}\"\n",
    "    print(f\"PlayerOne: {players[1]['name']}\")\n",
    "    print(f\"PlayerTwo: {players[2]['name']}\")\n",
    "    return \"_\".join([matchup, str(timestamp), uidPair])\n",
    "\n",
    "sample_replay = \"PvT_1614448222_7313968-7314011.SC2Replay\"\n",
    "sample_game = spawningtool.parser.parse_replay(sample_replay)\n",
    "print(\"Game unique fingerprint:\", fingerprint(sample_game))"
   ]
  },
  {
   "cell_type": "code",
   "execution_count": 6,
   "metadata": {
    "scrolled": true
   },
   "outputs": [
    {
     "name": "stdout",
     "output_type": "stream",
     "text": [
      "dict_keys(['buildOrderExtracted', 'message', 'build', 'baseBuild', 'category', 'expansion', 'unix_timestamp', 'frames', 'game_type', 'region', 'map', 'map_hash', 'cooperative', 'players', 'include_map_details', 'frames_per_second'])\n"
     ]
    }
   ],
   "source": [
    "print(sample_game.keys())"
   ]
  },
  {
   "cell_type": "code",
   "execution_count": 7,
   "metadata": {
    "scrolled": false
   },
   "outputs": [
    {
     "name": "stdout",
     "output_type": "stream",
     "text": [
      "13620 22.4\n"
     ]
    }
   ],
   "source": [
    "print(sample_game['frames'], sample_game['frames_per_second'])"
   ]
  },
  {
   "cell_type": "code",
   "execution_count": 8,
   "metadata": {
    "scrolled": true
   },
   "outputs": [
    {
     "name": "stdout",
     "output_type": "stream",
     "text": [
      "dict_keys(['name', 'pick_race', 'race', 'league', 'level', 'is_winner', 'result', 'is_human', 'handicap', 'color', 'uid', 'region', 'supply', 'team', 'clock_position', 'commander', 'abilities', 'buildOrder', 'unitsLost'])\n"
     ]
    }
   ],
   "source": [
    "print(sample_game['players'][1].keys())"
   ]
  },
  {
   "cell_type": "code",
   "execution_count": 9,
   "metadata": {
    "scrolled": true
   },
   "outputs": [],
   "source": [
    "#sample_game['players'][1]['buildOrder'][:10]"
   ]
  },
  {
   "cell_type": "code",
   "execution_count": 10,
   "metadata": {
    "scrolled": true
   },
   "outputs": [],
   "source": [
    "#sample_game['players'][1]['abilities']"
   ]
  },
  {
   "cell_type": "markdown",
   "metadata": {},
   "source": [
    "### Visual overview of first 5min from perspective of each player\n",
    "\n",
    "We plot the structures and units produced by each player along a compressed time axis, noting gaps longer than 3s."
   ]
  },
  {
   "cell_type": "code",
   "execution_count": 11,
   "metadata": {
    "scrolled": false
   },
   "outputs": [],
   "source": [
    "import matplotlib.pyplot as plt\n",
    "import matplotlib.image as mpimg\n",
    "from imageset import ICON_MAP\n",
    "from eventset import STRUCTURES, UNITS, UPGRADES\n",
    "ICON_DIR = 'icons'\n",
    "\n",
    "# Memoized plt imgs\n",
    "mem_icons = dict()"
   ]
  },
  {
   "cell_type": "code",
   "execution_count": 12,
   "metadata": {
    "scrolled": false
   },
   "outputs": [],
   "source": [
    "BUILD_ORDER_TIME_CUTOFF = 300 # seconds\n",
    "FILLER_TIME_THRESHOLD = 3\n",
    "FILLER_DUMMY_NAME = 'FILLER'"
   ]
  },
  {
   "cell_type": "code",
   "execution_count": 13,
   "metadata": {
    "scrolled": false
   },
   "outputs": [],
   "source": [
    "def build_visual_sequence(raw_buildOrder, cutoff=BUILD_ORDER_TIME_CUTOFF):\n",
    "    visual_buildOrder = []\n",
    "    for event in raw_buildOrder:\n",
    "        # Convert time to seconds\n",
    "        t_min, t_sec = list(map(int, event['time'].split(':')))\n",
    "        t_event = t_min*60+t_sec\n",
    "        # Break after 5min\n",
    "        if (t_event >= cutoff):\n",
    "            break\n",
    "        cur_event = dict(event)\n",
    "        cur_event['time'] = t_event\n",
    "        # Check if there is a gap longer than 1 second between this event and the last\n",
    "        t_delta = cur_event['time'] - visual_buildOrder[-1]['time'] if len(visual_buildOrder) > 0 else 0\n",
    "        if (t_delta > FILLER_TIME_THRESHOLD):\n",
    "            # Insert dummy event(s) with time gap\n",
    "            for i in range(t_delta//FILLER_TIME_THRESHOLD):\n",
    "                visual_buildOrder.append({\n",
    "                    'icon': None,\n",
    "                    'time': t_delta,\n",
    "                    'name': FILLER_DUMMY_NAME,\n",
    "                })\n",
    "        # Add mapping of visual icon\n",
    "        event_name = event['name'].strip().replace(' ','') # Clean up name\n",
    "        cur_event['name'] = event_name\n",
    "        cur_event['icon'] = ICON_MAP[event_name]\n",
    "        # Add event back into list\n",
    "        visual_buildOrder.append(cur_event)\n",
    "    return visual_buildOrder"
   ]
  },
  {
   "cell_type": "code",
   "execution_count": 14,
   "metadata": {
    "scrolled": true
   },
   "outputs": [],
   "source": [
    "def plot_game_series(data, save_file=None):\n",
    "    fig, ax = plt.subplots(4, len(data), figsize=(len(data), 8), dpi=64)\n",
    "    for i, event in enumerate(data):\n",
    "        for j in range(4):\n",
    "            ax[j][i].axis('off')\n",
    "        if (event['icon'] is None):\n",
    "            continue\n",
    "        rank = 1\n",
    "        if (event['name'] in STRUCTURES):\n",
    "            rank = 1\n",
    "        elif (event['name'] in UNITS):\n",
    "            rank = 2\n",
    "        elif (event['name'] in UPGRADES):\n",
    "            rank = 3\n",
    "        else:\n",
    "            print(f\"ERROR: {event['name']} not found!\")\n",
    "        ax[0][i].text(0.3,0,f\"{event['time']//60}:{event['time']%60:02}\")\n",
    "        if (event['icon'] in mem_icons):\n",
    "            ax[rank][i].imshow(mem_icons[event['icon']])\n",
    "        else:\n",
    "            img = mpimg.imread(os.path.join(ICON_DIR,event['icon']))\n",
    "            mem_icons[event['icon']] = img\n",
    "            ax[rank][i].imshow(img)\n",
    "    plt.tight_layout()\n",
    "    if (save_file is not None):\n",
    "        fig.savefig(f\"{save_file}.png\")\n",
    "    plt.show()"
   ]
  },
  {
   "cell_type": "markdown",
   "metadata": {},
   "source": [
    "### Graphical Display (Actions)\n",
    "\n",
    "*Images are attributed to Blizzard Entertainment Inc.* used here to demonstrate the variety of actions possible in this domain of determining Build Order.\n",
    "\n",
    "We plot 3 layers of actions, in order (top-down): STRUCTURES, UNITS, UPGRADES. From this we observe that the UPGRADES field is quite sparse and there are many gaps between events during which no actions are taken.\n",
    "\n",
    "In the next section, we will plot additional aggregate data regarding the 3 resources available: Supply, Minerals and Vespene Gas."
   ]
  },
  {
   "cell_type": "code",
   "execution_count": null,
   "metadata": {
    "scrolled": false
   },
   "outputs": [
    {
     "name": "stdout",
     "output_type": "stream",
     "text": [
      "134\n"
     ]
    }
   ],
   "source": [
    "playerOne_buildOrder = sample_game['players'][1]['buildOrder']\n",
    "playerOne_5_min_visual_mapping = build_visual_sequence(playerOne_buildOrder)\n",
    "print(len(playerOne_5_min_visual_mapping))\n",
    "plot_game_series(playerOne_5_min_visual_mapping, save_file=f\"PvT_1614448222_7313968-7314011_{1}\")"
   ]
  },
  {
   "cell_type": "code",
   "execution_count": null,
   "metadata": {
    "scrolled": true
   },
   "outputs": [],
   "source": [
    "playerTwo_buildOrder = sample_game['players'][2]['buildOrder']\n",
    "playerTwo_5_min_visual_mapping = build_visual_sequence(playerTwo_buildOrder)\n",
    "print(len(playerTwo_5_min_visual_mapping))\n",
    "plot_game_series(playerTwo_5_min_visual_mapping, save_file=f\"PvT_1614448222_7313968-7314011_{2}\")"
   ]
  },
  {
   "cell_type": "code",
   "execution_count": null,
   "metadata": {},
   "outputs": [],
   "source": [
    "# Extra - just to verify mapping is correct for Zerg\n",
    "zerg_replay = \"ZvP_1614353044_11982351-11981945.SC2Replay\"\n",
    "zvp_game = spawningtool.parser.parse_replay(zerg_replay)\n",
    "print(\"Game unique fingerprint:\", fingerprint(zvp_game))\n",
    "zvp_playerOne, zvp_playerTwo = (zvp_game['players'][1]['buildOrder'],zvp_game['players'][2]['buildOrder'])\n",
    "zvp_playerOneVisual, zvp_playerTwoVisual = (build_visual_sequence(zvp_playerOne), build_visual_sequence(zvp_playerTwo))\n",
    "print(len(zvp_playerOneVisual), len(zvp_playerTwoVisual))"
   ]
  },
  {
   "cell_type": "code",
   "execution_count": null,
   "metadata": {},
   "outputs": [],
   "source": [
    "#plot_game_series(zvp_playerOneVisual, save_file=f\"ZvP_1614353044_11982351-11981945_{1}\")"
   ]
  },
  {
   "cell_type": "code",
   "execution_count": null,
   "metadata": {
    "scrolled": true
   },
   "outputs": [],
   "source": [
    "#plot_game_series(zvp_playerTwoVisual, save_file=f\"ZvP_1614353044_11982351-11981945_{2}\")"
   ]
  },
  {
   "cell_type": "markdown",
   "metadata": {},
   "source": [
    "### Plotting aggregate data (Resources)\n",
    "\n",
    "Unfortunately, spawningtool does not make available the frame-by-frame information on resources available to each player. For this information, we will have to use [sc2reader](https://pypi.org/project/sc2reader/) for extraction.\n",
    "\n",
    "The output of sc2reader is event-driven and not nicely formatted, I've referred to this [sample notebook](https://github.com/IBM/starcraft2-replay-analysis/blob/master/notebooks/starcraft2_replay_analysis.ipynb) for many of the extraction functions herein."
   ]
  },
  {
   "cell_type": "code",
   "execution_count": null,
   "metadata": {},
   "outputs": [],
   "source": [
    "import sc2reader\n",
    "from sc2reader.events import PlayerStatsEvent, UnitBornEvent, UnitDiedEvent, UnitDoneEvent, UnitTypeChangeEvent, UpgradeCompleteEvent"
   ]
  },
  {
   "cell_type": "code",
   "execution_count": null,
   "metadata": {},
   "outputs": [],
   "source": [
    "import numpy as np"
   ]
  },
  {
   "cell_type": "code",
   "execution_count": null,
   "metadata": {
    "scrolled": true
   },
   "outputs": [],
   "source": [
    "from sc2replayParsers import (\n",
    "    handlers,\n",
    "    VESPENE_UNITS, SUPPLY_UNITS, WORKER_UNITS, BASE_UNITS,\n",
    "    GROUND_UNITS, AIR_UNITS, TECH_UNITS, STATIC_UNITS,\n",
    "    ARMY_UNITS, ARMY_AIR, ARMY_GROUND\n",
    ")"
   ]
  },
  {
   "cell_type": "code",
   "execution_count": null,
   "metadata": {},
   "outputs": [],
   "source": [
    "# Differences between our two sets of constants\n",
    "# with the exception of Creeptumor, NydusCanal for which the latter is depreciated, no difference\n",
    "# *Creeptumor doesn't factor into BuildOrders\n",
    "print(STRUCTURES.symmetric_difference(set(STATIC_UNITS)|set(VESPENE_UNITS)|set(BASE_UNITS)|set(GROUND_UNITS)|set(TECH_UNITS)|set(AIR_UNITS)))\n",
    "# UNITS extra (extra state-specific names which may be safely ignored)\n",
    "print(UNITS-(set(WORKER_UNITS)|set(ARMY_UNITS)))\n",
    "# WORKER|ARMY extras (these are Zerg spawned units which BuildOrder does not consider)\n",
    "print((set(WORKER_UNITS)|set(ARMY_UNITS))-UNITS)"
   ]
  },
  {
   "cell_type": "code",
   "execution_count": null,
   "metadata": {},
   "outputs": [],
   "source": [
    "from traceback import print_exc\n",
    "class SC2ReplayData(object):\n",
    "    __parsers__ = handlers\n",
    "    \n",
    "    @classmethod\n",
    "    def parse_replay(cls, replay=None, replay_file=None):\n",
    "        if (replay is not None):\n",
    "            replay_data = cls(replay)\n",
    "        elif (replay_file is not None):\n",
    "            replay = sc2reader.load_replay(replay_file)\n",
    "            replay_data = cls(replay)\n",
    "        else:\n",
    "            print(\"Error! No valid replay or replay_file given\")\n",
    "            return None\n",
    "        \n",
    "        # Parse events in replay with parsers\n",
    "        try:\n",
    "            # Metadata\n",
    "            replay_data.frames = replay.frames\n",
    "            for event in replay.events:\n",
    "                for parser in cls.__parsers__:\n",
    "                    parser(replay_data, event)\n",
    "            if replay.winner is not None:\n",
    "                replay_data.winners = replay.winner.players\n",
    "                replay_data.losers = [p for p in replay.players if p not in replay.winner.players]\n",
    "            # Maybe the GAME expansion (version)? e.g. wol/hots/lotv\n",
    "            replay_data.expansion = replay.expansion\n",
    "            return replay_data\n",
    "        except:\n",
    "            print_exc()\n",
    "            return None\n",
    "        \n",
    "    def as_dict(self):\n",
    "        return {\n",
    "            \"replay\": self.replay,\n",
    "            \"expansion\": self.expansion,\n",
    "            \"frames\": self.frames,\n",
    "            \"matchup\": 'v'.join(sorted([s.detail_data[\"race\"][0].upper() for s in self.replay.players])),\n",
    "            \"winners\": [(s.pid, s.name, s.detail_data[\"race\"]) for s in self.winners],\n",
    "            \"losers\": [(s.pid, s.name, s.detail_data[\"race\"]) for s in self.losers],\n",
    "            \"player_names\": [str(s) for s in self.replay.players],\n",
    "            \"stats_names\": [k for k in self.players[1].keys()], # Player statistic key labels\n",
    "            \"stats\": {player: data for player, data in self.players.items()} # Full dictionary\n",
    "        }\n",
    "        \n",
    "    def __init__(self, replay):\n",
    "        self.replay = replay\n",
    "        self.players = defaultdict(lambda: defaultdict(list)) # Dictionary: {Dictionary: list}\n",
    "        self.winners = []\n",
    "        self.losers = []\n",
    "        self.expansion = None # ??"
   ]
  },
  {
   "cell_type": "code",
   "execution_count": null,
   "metadata": {},
   "outputs": [],
   "source": [
    "sc2replay_data = SC2ReplayData.parse_replay(replay_file=sample_replay)\n",
    "data_dump = sc2replay_data.as_dict()\n",
    "sc2replay_playerOne, sc2replay_playerTwo = data_dump['stats'][1], data_dump['stats'][2]"
   ]
  },
  {
   "cell_type": "code",
   "execution_count": null,
   "metadata": {},
   "outputs": [],
   "source": [
    "data_dump['player_names']"
   ]
  },
  {
   "cell_type": "code",
   "execution_count": null,
   "metadata": {},
   "outputs": [],
   "source": [
    "def plot_stat_player(playerData, key, **kwargs):\n",
    "    plot_stat_graph(playerData[key], name=key, **kwargs)\n",
    "    \n",
    "def plot_stat_graph(stat_data, name=None, ax=None, show=True):\n",
    "    if (ax is None):\n",
    "        fig, ax = plt.subplots()\n",
    "    # Stats are recorded every 160 frames (10s)\n",
    "    data = np.asarray(stat_data[:BUILD_ORDER_TIME_CUTOFF//10])\n",
    "    ax.plot(data[:,0], data[:,1], label=name)\n",
    "    ax.legend()\n",
    "    if (show):\n",
    "        plt.show()"
   ]
  },
  {
   "cell_type": "code",
   "execution_count": null,
   "metadata": {
    "scrolled": false
   },
   "outputs": [],
   "source": [
    "# Here, we grab important MACRO information that will be simultaneously useful alongside discrete actions in the BuildOrder\n",
    "supply_stats = ('supply_available', 'supply_consumed')\n",
    "worker_stats = ('workers_active', 'mineral_per_worker_rate')\n",
    "ratio_stats = ('supply_utilization', 'worker_supply_ratio')\n",
    "resource_stats = ('mineral_collection_rate', 'vespene_collection_rate')\n",
    "mineral_stats = ('mineral_value_current_economic', 'mineral_value_current_technology', 'mineral_value_current_army')\n",
    "vespene_stats = ('vespene_value_current_economic', 'vespene_value_current_technology', 'vespene_value_current_army')\n",
    "stats_groups = [supply_stats, worker_stats, ratio_stats, resource_stats, mineral_stats, vespene_stats]\n",
    "heading = False\n",
    "for key_li in stats_groups:\n",
    "    fig, ax = plt.subplots(1,2, figsize=(16,4))\n",
    "    if (not heading):\n",
    "        for i in range(2):\n",
    "            ax[i].set_title(data_dump['player_names'][i])\n",
    "        heading = True\n",
    "    for key in key_li:\n",
    "        plot_stat_player(sc2replay_playerOne, key, ax=ax[0], show=False)\n",
    "        plot_stat_player(sc2replay_playerTwo, key, ax=ax[1], show=False)\n",
    "plt.show()"
   ]
  }
 ],
 "metadata": {
  "kernelspec": {
   "display_name": "Python 3",
   "language": "python",
   "name": "python3"
  },
  "language_info": {
   "codemirror_mode": {
    "name": "ipython",
    "version": 3
   },
   "file_extension": ".py",
   "mimetype": "text/x-python",
   "name": "python",
   "nbconvert_exporter": "python",
   "pygments_lexer": "ipython3",
   "version": "3.8.3"
  }
 },
 "nbformat": 4,
 "nbformat_minor": 4
}
