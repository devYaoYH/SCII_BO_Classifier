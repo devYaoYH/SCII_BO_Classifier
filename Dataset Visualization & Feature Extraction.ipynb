{
 "cells": [
  {
   "cell_type": "markdown",
   "metadata": {},
   "source": [
    "# Dataset Visualization & Feature Extraction\n",
    "\n",
    "After some sanitization of inputs (discarding ineligible replays) and standardizing the formatting of replay filenames, we have a shortlist of **1979** unique games to explore with. Based on initial results, the same procedure can be run on a larger set of non-pro player replays in a wider range of ranked leagues."
   ]
  },
  {
   "cell_type": "code",
   "execution_count": 1,
   "metadata": {},
   "outputs": [],
   "source": [
    "import os\n",
    "import sys\n",
    "import spawningtool.parser\n",
    "from collections import defaultdict"
   ]
  },
  {
   "cell_type": "code",
   "execution_count": 2,
   "metadata": {},
   "outputs": [],
   "source": [
    "# Where replays are located\n",
    "replay_dir = \"replays\"\n",
    "# Where we should copy over the sanitized replays\n",
    "output_dir = \"sanitized_replays\""
   ]
  },
  {
   "cell_type": "code",
   "execution_count": 3,
   "metadata": {},
   "outputs": [],
   "source": [
    "matchup_dict = defaultdict(list)\n",
    "race_dict = defaultdict(list)\n",
    "\n",
    "for (dirpath, dirnames, filenames) in os.walk(replay_dir):\n",
    "    for filename in filenames:\n",
    "        try:\n",
    "            matchup, _, _ = filename.split('_')\n",
    "            # Build up classification by matchup\n",
    "            matchup_dict[''.join(sorted(matchup))].append(filename)\n",
    "            # Build up classification by race\n",
    "            one, two = matchup.split('v')\n",
    "            race_dict[one].append((filename, 1))\n",
    "            race_dict[two].append((filename, 2))\n",
    "        except Exception as e:\n",
    "            print(e)\n",
    "            print(filename)\n",
    "    break"
   ]
  },
  {
   "cell_type": "markdown",
   "metadata": {},
   "source": [
    "## Dataset-level population metrics\n",
    "\n",
    "Below are some metrics on the population of replays we are classifying on. There is a bias towards the Protoss race, likely due to the relative proportion of active professional players utilizing this race in the recent time period. As seen below, games that involve Protoss players occupy roughly 75% of this dataset while games involving the other two races are around 60%. This should not affect our classification results since we will be classifying within each race, we may simply have less confidence on the non-Protoss results."
   ]
  },
  {
   "cell_type": "code",
   "execution_count": 4,
   "metadata": {},
   "outputs": [
    {
     "name": "stdout",
     "output_type": "stream",
     "text": [
      "Matchup PPv: 303\n",
      "Matchup PTv: 459\n",
      "Matchup PZv: 484\n",
      "Matchup TTv: 144\n",
      "Matchup TZv: 388\n",
      "Matchup ZZv: 201\n",
      "Race P: 1549\n",
      "Race T: 1135\n",
      "Race Z: 1274\n"
     ]
    }
   ],
   "source": [
    "for key in matchup_dict.keys():\n",
    "    print(f\"Matchup {key}: {len(matchup_dict[key])}\")\n",
    "\n",
    "for key in race_dict.keys():\n",
    "    print(f\"Race {key}: {len(race_dict[key])}\")"
   ]
  },
  {
   "cell_type": "markdown",
   "metadata": {},
   "source": [
    "## Dissecting a game\n",
    "\n",
    "Many things are happening simultaneously in a game of Starcraft. Broadly speaking, players balance between 3 goals: Economy, Offense, and Defence. More specifically, there are 3 resources in the game players need to balance, Minerals, Vespene Gas, and Supply. Minerals and Gas are used to produce both Buildings, Upgrades, and Units. A set amount of Supply is consumed by each unit on the playing field currently.\n",
    "\n",
    "There are a few classes of buildings and units which we will breakdown as follows (P/T/Z):\n",
    "- Economy\n",
    "    - Nexus/Command Center/Hatchery: Main collection point for resources and (only) initial building given to players\n",
    "- Supply\n",
    "    - Pylon/Supply Depot/\\[Overlord\\]: Structures which increase available Supply (capped at 200). Note that for Zerg, this is a unit instead.\n",
    "- Production (basic)\n",
    "    - Gateway,Stargate,Robotics Facility/Barracks,Factory,Starport/\\[Larvae\\]: Basic offensive unit production building. Note that for Zerg, ALL other units are produced from the basic *Larvae* unit which is spawned at a constant rate from Hatcheries.\n",
    "- Tech (basic)\n",
    "    - Cybernetics Core,Twilight Council/Ghost Academy,Techlab add-on/Spawning Pool,Baneling Nest,Roach Warren,Lair\n",
    "- Tech (advanced)\n",
    "    - Templar Archives,Dark Shrine,Fleet Beacon,Robotics Bay/Fusion Core/Hydralist Den,Lurker Den,Spire,Hive,Ultralisk Cavern,Greater Spire\n",
    "- Upgrades\n",
    "    - Forge/Armory,Engineering Bay/Evolution Chamber\n",
    "    \n",
    "This is just a personal categorical breakdown of the classes of structures and their roles in the game. Each building also has dependencies to be fulfilled before they can be built. Furthermore, for some cases, structures fulfils both a Tech role as well as an Upgrade role (one unlocks both new units to create as well as new upgrades to research). One can access the full structure tree for each race at:\n",
    "- [Protoss](https://liquipedia.net/starcraft2/Protoss_Tech_Tree_(Legacy_of_the_Void))\n",
    "- [Terran](https://liquipedia.net/starcraft2/Terran_Tech_Tree_(Legacy_of_the_Void))\n",
    "- [Zerg](https://liquipedia.net/starcraft2/Zerg_Tech_Tree_(Legacy_of_the_Void))\n",
    "\n",
    "The purpose of creating buildings outside the Production class is to unlock a greater variety of units that one can create. With units that require more investment supposedly generating more efficiency (in terms of resources utilized against potential damage caused to the opponent).\n",
    "\n",
    "## Visualizing a game\n",
    "\n",
    "For this exercise, we will dig into a particular replay (`PvT_1614448222_7313968-7314011.SC2Replay`) to visualize the features we will be extracting for classification.\n",
    "\n",
    "We will attempt to visualize a recent game in the 2020 world championships between two pro players PartinG (P) and TY (T). *reason being I've watched this replay and would be familiar with what happened in this match*"
   ]
  },
  {
   "cell_type": "code",
   "execution_count": 15,
   "metadata": {
    "scrolled": true
   },
   "outputs": [
    {
     "name": "stdout",
     "output_type": "stream",
     "text": [
      "PlayerOne: PartinG\n",
      "PlayerTwo: TYTY\n",
      "Game unique fingerprint:  PvT_1614448222_7313968-7314011\n"
     ]
    }
   ],
   "source": [
    "def fingerprint(game):\n",
    "    players = game['players']\n",
    "    matchup = f\"{players[1]['race'][0]}v{players[2]['race'][0]}\"\n",
    "    timestamp = game['unix_timestamp']\n",
    "    uidPair = f\"{players[1]['uid']}-{players[2]['uid']}\"\n",
    "    print(f\"PlayerOne: {players[1]['name']}\")\n",
    "    print(f\"PlayerTwo: {players[2]['name']}\")\n",
    "    return \"_\".join([matchup, str(timestamp), uidPair])\n",
    "\n",
    "sample_replay = \"PvT_1614448222_7313968-7314011.SC2Replay\"\n",
    "sample_game = spawningtool.parser.parse_replay(sample_replay)\n",
    "print(\"Game unique fingerprint:\", fingerprint(sample_game))"
   ]
  },
  {
   "cell_type": "markdown",
   "metadata": {},
   "source": [
    "## Outline of Approach\n",
    "\n",
    "We treat each action as a multivariate vector of as many variables as there are unique structures,"
   ]
  },
  {
   "cell_type": "code",
   "execution_count": null,
   "metadata": {},
   "outputs": [],
   "source": []
  }
 ],
 "metadata": {
  "kernelspec": {
   "display_name": "Python 3",
   "language": "python",
   "name": "python3"
  },
  "language_info": {
   "codemirror_mode": {
    "name": "ipython",
    "version": 3
   },
   "file_extension": ".py",
   "mimetype": "text/x-python",
   "name": "python",
   "nbconvert_exporter": "python",
   "pygments_lexer": "ipython3",
   "version": "3.8.3"
  }
 },
 "nbformat": 4,
 "nbformat_minor": 4
}
