{
 "cells": [
  {
   "cell_type": "code",
   "execution_count": 1,
   "metadata": {},
   "outputs": [],
   "source": [
    "import os\n",
    "import sys\n",
    "import spawningtool.parser\n",
    "from collections import defaultdict"
   ]
  },
  {
   "cell_type": "code",
   "execution_count": 2,
   "metadata": {},
   "outputs": [],
   "source": [
    "# Where replays are located\n",
    "replay_dir = \"replays\"\n",
    "# Where we should copy over the sanitized replays\n",
    "output_dir = \"sanitized_replays\""
   ]
  },
  {
   "cell_type": "code",
   "execution_count": 3,
   "metadata": {},
   "outputs": [],
   "source": [
    "matchup_dict = defaultdict(list)\n",
    "race_dict = defaultdict(list)\n",
    "\n",
    "for (dirpath, dirnames, filenames) in os.walk(replay_dir):\n",
    "    for filename in filenames:\n",
    "        try:\n",
    "            matchup, _, _ = filename.split('_')\n",
    "            # Build up classification by matchup\n",
    "            matchup_dict[''.join(sorted(matchup))].append(filename)\n",
    "            # Build up classification by race\n",
    "            one, two = matchup.split('v')\n",
    "            race_dict[one].append((filename, 1))\n",
    "            race_dict[two].append((filename, 2))\n",
    "        except Exception as e:\n",
    "            print(e)\n",
    "            print(filename)\n",
    "    break"
   ]
  },
  {
   "cell_type": "code",
   "execution_count": 4,
   "metadata": {},
   "outputs": [
    {
     "name": "stdout",
     "output_type": "stream",
     "text": [
      "Matchup PPv: 303\n",
      "Matchup PTv: 459\n",
      "Matchup PZv: 484\n",
      "Matchup TTv: 144\n",
      "Matchup TZv: 388\n",
      "Matchup ZZv: 201\n",
      "Race P: 1549\n",
      "Race T: 1135\n",
      "Race Z: 1274\n"
     ]
    }
   ],
   "source": [
    "for key in matchup_dict.keys():\n",
    "    print(f\"Matchup {key}: {len(matchup_dict[key])}\")\n",
    "\n",
    "for key in race_dict.keys():\n",
    "    print(f\"Race {key}: {len(race_dict[key])}\")"
   ]
  },
  {
   "cell_type": "code",
   "execution_count": null,
   "metadata": {},
   "outputs": [],
   "source": []
  }
 ],
 "metadata": {
  "kernelspec": {
   "display_name": "Python 3",
   "language": "python",
   "name": "python3"
  },
  "language_info": {
   "codemirror_mode": {
    "name": "ipython",
    "version": 3
   },
   "file_extension": ".py",
   "mimetype": "text/x-python",
   "name": "python",
   "nbconvert_exporter": "python",
   "pygments_lexer": "ipython3",
   "version": "3.8.3"
  }
 },
 "nbformat": 4,
 "nbformat_minor": 4
}
